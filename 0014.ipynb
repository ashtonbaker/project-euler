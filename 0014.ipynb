{
 "metadata": {
  "name": ""
 },
 "nbformat": 3,
 "nbformat_minor": 0,
 "worksheets": [
  {
   "cells": [
    {
     "cell_type": "heading",
     "level": 2,
     "metadata": {},
     "source": [
      "Problem 14 - Longest Collatz sequence"
     ]
    },
    {
     "cell_type": "markdown",
     "metadata": {},
     "source": [
      "The following iterative sequence is defined for the set of positive integers:\n",
      "\n",
      "$$n \\rightarrow n/2 \\qquad \\text{(n is even)}\\\\\n",
      "n \\rightarrow 3n + 1  \\quad\\text{(n is odd)}$$\n",
      "\n",
      "Using the rule above and starting with 13, we generate the following sequence:\n",
      "\n",
      "$$13 \u2192 40 \u2192 20 \u2192 10 \u2192 5 \u2192 16 \u2192 8 \u2192 4 \u2192 2 \u2192 1$$\n",
      "\n",
      "It can be seen that this sequence (starting at 13 and finishing at 1) contains 10 terms. Although it has not been proved yet (Collatz Problem), it is thought that all starting numbers finish at 1.\n",
      "\n",
      "Which starting number, under one million, produces the longest chain?\n",
      "\n",
      "NOTE: Once the chain starts the terms are allowed to go above one million."
     ]
    },
    {
     "cell_type": "code",
     "collapsed": false,
     "input": [
      "def chainlength(n):\n",
      "    length = 1\n",
      "    while(n > 1):\n",
      "        if n % 2 == 0:\n",
      "            n = n / 2\n",
      "        else:\n",
      "            n = 3 * n + 1\n",
      "        length += 1\n",
      "\n",
      "    return length"
     ],
     "language": "python",
     "metadata": {},
     "outputs": [],
     "prompt_number": 1
    },
    {
     "cell_type": "code",
     "collapsed": false,
     "input": [
      "bestinteger = 0\n",
      "longestchain = 0\n",
      "\n",
      "for i in xrange(1000000):\n",
      "    thischain = chainlength(i)\n",
      "    if thischain > longestchain:\n",
      "        longestchain = thischain\n",
      "        bestinteger = i\n",
      "\n",
      "print(bestinteger, longestchain)"
     ],
     "language": "python",
     "metadata": {},
     "outputs": [
      {
       "output_type": "stream",
       "stream": "stdout",
       "text": [
        "(837799, 525)\n"
       ]
      }
     ],
     "prompt_number": 2
    },
    {
     "cell_type": "code",
     "collapsed": false,
     "input": [],
     "language": "python",
     "metadata": {},
     "outputs": []
    }
   ],
   "metadata": {}
  }
 ]
}