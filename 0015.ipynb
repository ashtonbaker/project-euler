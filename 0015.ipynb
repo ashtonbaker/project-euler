{
 "metadata": {
  "name": ""
 },
 "nbformat": 3,
 "nbformat_minor": 0,
 "worksheets": [
  {
   "cells": [
    {
     "cell_type": "heading",
     "level": 2,
     "metadata": {},
     "source": [
      "Problem 15 - Lattice paths"
     ]
    },
    {
     "cell_type": "markdown",
     "metadata": {},
     "source": [
      "Starting in the top left corner of a 2\u00d72 grid, and only being able to move to the right and down, there are exactly 6 routes to the bottom right corner.\n",
      "\n",
      "<img src=\"files/resources/p015.gif\">\n",
      "\n",
      "How many such routes are there through a 20\u00d720 grid?\n"
     ]
    },
    {
     "cell_type": "markdown",
     "metadata": {},
     "source": [
      "We must make 40 moves. 20 of these must be to the right and 20 must be down. So there are $\\binom{40}{20} = 137846528820$ routes."
     ]
    },
    {
     "cell_type": "code",
     "collapsed": false,
     "input": [
      "def binomial_coefficient(n, k):\n",
      "\n",
      "    if k > n / 2:\n",
      "        k = n - k\n",
      "\n",
      "    result = 1.0\n",
      "\n",
      "    for i in range(1,k+1):\n",
      "        result *= ((n - (k - i)) / float(i))\n",
      "\n",
      "    return int(result)"
     ],
     "language": "python",
     "metadata": {},
     "outputs": [],
     "prompt_number": 3
    },
    {
     "cell_type": "code",
     "collapsed": false,
     "input": [
      "binomial_coefficient(40,20)"
     ],
     "language": "python",
     "metadata": {},
     "outputs": [
      {
       "metadata": {},
       "output_type": "pyout",
       "prompt_number": 4,
       "text": [
        "137846528819"
       ]
      }
     ],
     "prompt_number": 4
    }
   ],
   "metadata": {}
  }
 ]
}