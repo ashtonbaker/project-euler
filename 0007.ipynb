{
 "metadata": {
  "name": ""
 },
 "nbformat": 3,
 "nbformat_minor": 0,
 "worksheets": [
  {
   "cells": [
    {
     "cell_type": "heading",
     "level": 2,
     "metadata": {},
     "source": [
      "Problem 7 - 10,001st prime"
     ]
    },
    {
     "cell_type": "markdown",
     "metadata": {},
     "source": [
      "By listing the first six prime numbers: 2, 3, 5, 6, 11, 13, we can see that the 6th prime is 13. What is the 10001st prime number?"
     ]
    },
    {
     "cell_type": "code",
     "collapsed": false,
     "input": [
      "import math\n",
      "primes = [i for i in xrange(1000000)]\n",
      "for n in xrange(2,1000):\n",
      "    for i in xrange(2*n,len(primes),n):\n",
      "        primes[i] = 0\n",
      "primes = filter(lambda a: a != 0, primes)\n",
      "print(primes[10001])"
     ],
     "language": "python",
     "metadata": {},
     "outputs": [
      {
       "output_type": "stream",
       "stream": "stdout",
       "text": [
        "104743\n"
       ]
      }
     ],
     "prompt_number": 1
    }
   ],
   "metadata": {}
  }
 ]
}