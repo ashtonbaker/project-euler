{
 "metadata": {
  "name": ""
 },
 "nbformat": 3,
 "nbformat_minor": 0,
 "worksheets": [
  {
   "cells": [
    {
     "cell_type": "heading",
     "level": 2,
     "metadata": {},
     "source": [
      "Problem 9 - Special Pythagorean Triplet"
     ]
    },
    {
     "cell_type": "markdown",
     "metadata": {},
     "source": [
      "A Pythagorean triplet is a set of three natural numbers $a < b < c$ for which $a^2 + b^2 = c^2$. There exists exactly one Pythagorean triplet for which $a + b + c = 1000$. Find the product $a \\times b \\times c$."
     ]
    },
    {
     "cell_type": "code",
     "collapsed": false,
     "input": [
      "for n in xrange(1, 1000):\n",
      "    for m in xrange(n + 1, 1000):\n",
      "        a = m**2 - n**2\n",
      "        b = 2 * m * n\n",
      "        c = m**2 + n**2\n",
      "        if a + b + c == 1000:\n",
      "            print \"%i^2 + %i^2 + %i^2 = 1000\" % (a, b, c)\n",
      "            print \"%i * %i * %i = %i\" %(a,b,c,a*b*c)"
     ],
     "language": "python",
     "metadata": {},
     "outputs": [
      {
       "output_type": "stream",
       "stream": "stdout",
       "text": [
        "375^2 + 200^2 + 425^2 = 1000\n",
        "375 * 200 * 425 = 31875000\n"
       ]
      }
     ],
     "prompt_number": 2
    }
   ],
   "metadata": {}
  }
 ]
}