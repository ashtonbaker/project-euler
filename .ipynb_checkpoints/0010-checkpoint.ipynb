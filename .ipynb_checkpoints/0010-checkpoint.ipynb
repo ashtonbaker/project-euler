{
 "metadata": {
  "name": ""
 },
 "nbformat": 3,
 "nbformat_minor": 0,
 "worksheets": [
  {
   "cells": [
    {
     "cell_type": "heading",
     "level": 2,
     "metadata": {},
     "source": [
      "Problem 10 - Summation of primes"
     ]
    },
    {
     "cell_type": "markdown",
     "metadata": {},
     "source": [
      "The sum of the primes below 10 is $2 + 3 + 5 + 7 = 17$. Find the sum of all the primes below two million."
     ]
    },
    {
     "cell_type": "code",
     "collapsed": false,
     "input": [
      "import math\n",
      "primes = [i for i in xrange(2000000)]\n",
      "primes[1] = 0\n",
      "for n in xrange(2,1500):\n",
      "    for i in xrange(2*n,len(primes),n):\n",
      "        primes[i] = 0\n",
      "primes = filter(lambda a: a != 0, primes)\n",
      "\n",
      "print(sum(primes))"
     ],
     "language": "python",
     "metadata": {},
     "outputs": [
      {
       "output_type": "stream",
       "stream": "stdout",
       "text": [
        "142913828922\n"
       ]
      }
     ],
     "prompt_number": 1
    }
   ],
   "metadata": {}
  }
 ]
}