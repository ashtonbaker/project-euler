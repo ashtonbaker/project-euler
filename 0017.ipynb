{
 "metadata": {
  "name": ""
 },
 "nbformat": 3,
 "nbformat_minor": 0,
 "worksheets": [
  {
   "cells": [
    {
     "cell_type": "heading",
     "level": 2,
     "metadata": {},
     "source": [
      "Problem 17 - Number letter counts"
     ]
    },
    {
     "cell_type": "markdown",
     "metadata": {},
     "source": [
      "If the numbers 1 to 5 are written out in words: one, two, three, four, five,\n",
      "then there are $3 + 3 + 5 + 4 + 4 = 19$ letters used in total. If all the numbers\n",
      "from 1 to 1000 (one thousand) inclusive were written out in words, how many\n",
      "letters would be used?\n",
      "\n",
      "NOTE: Do not count spaces or hyphens. For example, 342 (three hundred and\n",
      "forty-two) contains 23 letters and 115 (one hundred and fifteen) contains 20\n",
      "letters. The use of \"and\" when writing out numbers is in compliance with\n",
      "British usage."
     ]
    },
    {
     "cell_type": "code",
     "collapsed": false,
     "input": [
      "ones = [0, 3, 3, 5, 4, 4, 3, 5, 5, 4,\n",
      "        3, 6, 6, 8, 8, 7, 7, 9, 8, 8]\n",
      "tens = [0, 3, 6, 6, 5, 5, 5, 7, 6, 6]\n",
      "\n",
      "sum = 0\n",
      "\n",
      "for n in xrange(1, 1000):\n",
      "    hundredsplace = n / 100\n",
      "    sum += ones[hundredsplace]\n",
      "\n",
      "    if n % 100 < 20:\n",
      "        sum += ones[n % 100]\n",
      "    else:\n",
      "        onesplace = n % 10\n",
      "        tensplace = (n % 100)/ 10\n",
      "        sum += ones[onesplace]\n",
      "        sum += tens[tensplace]\n",
      "\n",
      "    if n % 100 > 0 and n >= 100:\n",
      "        sum += 3\n",
      "\n",
      "    if n >= 100:\n",
      "        sum += 7\n",
      "\n",
      "sum += 11\n",
      "\n",
      "print sum"
     ],
     "language": "python",
     "metadata": {},
     "outputs": [
      {
       "output_type": "stream",
       "stream": "stdout",
       "text": [
        "21124\n"
       ]
      }
     ],
     "prompt_number": 1
    }
   ],
   "metadata": {}
  }
 ]
}