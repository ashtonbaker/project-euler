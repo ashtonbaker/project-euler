{
 "metadata": {
  "name": ""
 },
 "nbformat": 3,
 "nbformat_minor": 0,
 "worksheets": [
  {
   "cells": [
    {
     "cell_type": "heading",
     "level": 2,
     "metadata": {},
     "source": [
      "Problem 4 - Largest palendrome product"
     ]
    },
    {
     "cell_type": "markdown",
     "metadata": {},
     "source": [
      "A palindromic number reads the same both ways. The largest palindrome made from\n",
      "the product of two 2-digit numbers is $9009 = 91 \\times 99$. Find the largest\n",
      "palindrome made from the product of two 3-digit numbers."
     ]
    },
    {
     "cell_type": "code",
     "collapsed": false,
     "input": [
      "factor1 = 0\n",
      "factor2 = 0\n",
      "top = 0\n",
      "\n",
      "for i in xrange(999):\n",
      "    for j in xrange(100,1000):\n",
      "        product = i * j\n",
      "        if (str(product) == str(product)[::-1]) and product > top:\n",
      "            factor1 = i\n",
      "            factor2 = j\n",
      "            top = product\n",
      "\n",
      "print('%i * %i = %i') % (factor1, factor2, top)"
     ],
     "language": "python",
     "metadata": {},
     "outputs": [
      {
       "output_type": "stream",
       "stream": "stdout",
       "text": [
        "913 * 993 = 906609\n"
       ]
      }
     ],
     "prompt_number": 1
    }
   ],
   "metadata": {}
  }
 ]
}