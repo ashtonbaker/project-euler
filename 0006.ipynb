{
 "metadata": {
  "name": ""
 },
 "nbformat": 3,
 "nbformat_minor": 0,
 "worksheets": [
  {
   "cells": [
    {
     "cell_type": "heading",
     "level": 2,
     "metadata": {},
     "source": [
      "Problem 6 - Sum square difference"
     ]
    },
    {
     "cell_type": "markdown",
     "metadata": {},
     "source": [
      "The sum of the squares of the first ten natural numbers is\n",
      "$$1^2 + 2^2 + \\ldots + 10^2 = 385$$\n",
      "The square of the sum of the first ten natural numbers is\n",
      "$$(1 + 2 + \\ldots + 10)^2 = 3025$$\n",
      "Hence the difference between the sum of the squares of the first ten natural numbers and the square of the sum is\n",
      "$3025 - 385 = 2640$. Find the difference between the sum of the squares of the first one hundred natural numbers and the square of the sum."
     ]
    },
    {
     "cell_type": "code",
     "collapsed": false,
     "input": [
      "sumofsquares = sum([i**2 for i in xrange(1,101)])\n",
      "squareofsum = sum([i for i in xrange(1,101)])**2\n",
      "\n",
      "print(squareofsum - sumofsquares)"
     ],
     "language": "python",
     "metadata": {},
     "outputs": [
      {
       "output_type": "stream",
       "stream": "stdout",
       "text": [
        "25164150\n"
       ]
      }
     ],
     "prompt_number": 1
    }
   ],
   "metadata": {}
  }
 ]
}